{
 "cells": [
  {
   "cell_type": "markdown",
   "metadata": {},
   "source": [
    "NMS在YOLO的實際運作以每一個類別為主，各別執行NMS。\n",
    "YOLO 在NMS中採用的信心度為「每個 bbox 包含各類別的信心度」\n",
    "\n",
    "在NMS流程中，IoU重疊率參數(nms_threshold )調高，試著思考一下輸出的預測框會有甚麼變化?\n",
    "Hint: 可以回頭看今天介紹的內容，思考輸出的預測框變多或變少?"
   ]
  },
  {
   "cell_type": "code",
   "execution_count": null,
   "metadata": {},
   "outputs": [],
   "source": [
    "'''\n",
    "如果IoU閾值設定太低，可能會造成物件重複偵測的問題\n",
    "IOU太高，顯示的預測框會變少\n",
    "\n",
    "'''"
   ]
  }
 ],
 "metadata": {
  "kernelspec": {
   "display_name": "Python 3",
   "language": "python",
   "name": "python3"
  },
  "language_info": {
   "codemirror_mode": {
    "name": "ipython",
    "version": 3
   },
   "file_extension": ".py",
   "mimetype": "text/x-python",
   "name": "python",
   "nbconvert_exporter": "python",
   "pygments_lexer": "ipython3",
   "version": "3.7.7"
  }
 },
 "nbformat": 4,
 "nbformat_minor": 4
}
