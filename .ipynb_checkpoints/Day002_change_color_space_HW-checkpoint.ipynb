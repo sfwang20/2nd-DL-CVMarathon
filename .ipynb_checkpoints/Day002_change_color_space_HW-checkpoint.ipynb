{
 "cells": [
  {
   "cell_type": "code",
   "execution_count": null,
   "metadata": {},
   "outputs": [],
   "source": [
    "import cv2\n",
    "import numpy as np\n",
    "\n",
    "img_path = 'data/lena.png'\n",
    "img = cv2.imread(img_path)\n",
    "\n",
    "# convert to HSV\n",
    "img_HSV = cv2.cvtColor(img, cv2.COLOR_BGR2HSV)\n",
    "# convert to HSL\n",
    "img_HSB = cv2.cvtColor(img, cv2.COLOR_BGR2HLS)\n",
    "# convert to LAB\n",
    "img_LAB = cv2.cvtColor(img, cv2.COLOR_BGR2LAB)\n",
    "\n",
    "img_concat = np.hstack((img_HSV, img_HSB, img_LAB))\n",
    "\n",
    "cv2.imshow('BGR', img)\n",
    "cv2.imshow('HSV+HSB+LAB', img_concat)\n",
    "\n",
    "k = cv2.waitKey(0)\n",
    "if k == 27:\n",
    "    cv2.destropAllWindows()\n",
    "elif k == ord('s'):\n",
    "    cv2.imwrite('BGR', img)\n",
    "    cv2.imwwite('HSV+HSB+LAB', img_concat)\n",
    "    cv2.destroyAllWindows()\n",
    "\n"
   ]
  }
 ],
 "metadata": {
  "kernelspec": {
   "display_name": "Python 3",
   "language": "python",
   "name": "python3"
  },
  "language_info": {
   "codemirror_mode": {
    "name": "ipython",
    "version": 3
   },
   "file_extension": ".py",
   "mimetype": "text/x-python",
   "name": "python",
   "nbconvert_exporter": "python",
   "pygments_lexer": "ipython3",
   "version": "3.8.2"
  }
 },
 "nbformat": 4,
 "nbformat_minor": 4
}
