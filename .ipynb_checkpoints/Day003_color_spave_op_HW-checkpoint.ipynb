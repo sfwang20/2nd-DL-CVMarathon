{
 "cells": [
  {
   "cell_type": "code",
   "execution_count": null,
   "metadata": {},
   "outputs": [],
   "source": [
    "import cv2\n",
    "import numpy as np\n",
    "\n",
    "img_path = \"data/lena.png\"\n",
    "img = cv2.imread(img_path)"
   ]
  },
  {
   "cell_type": "code",
   "execution_count": 2,
   "metadata": {},
   "outputs": [],
   "source": [
    "# convert to HSV\n",
    "img_hsv = cv2.cvtColor(img, cv2.COLOR_BGR2HSV)\n",
    "change_percentage = 0.2\n",
    "\n",
    "# 調降20%飽和度\n",
    "img_hsv_down = img_hsv.astype('float32')\n",
    "img_hsv_down[..., -1] = img_hsv_down[..., -1]/255 - change_percentage\n",
    "# 將負值設為0\n",
    "img_hsv_down[img_hsv_down[..., -1] < 0] = 0\n",
    "# 轉回來\n",
    "img_hsv_down[..., -1] = img_hsv_down[..., -1]*255\n",
    "img_hsv_down = img_hsv_down.astype('uint8')\n",
    "\n",
    "# 調升20%飽和度\n",
    "img_hsv_up = img_hsv.astype('float32')\n",
    "img_hsv_up[..., -1] = img_hsv_up[..., -1]/255 + change_percentage\n",
    "img_hsv_up[img_hsv_up[..., -1] > 1] = 1\n",
    "img_hsv_up[..., -1] = img_hsv_up[..., -1]*255\n",
    "img_hsv_up = img_hsv_up.astype('uint8')\n",
    "\n",
    "# 轉換\n",
    "img_hsv_down = cv2.cvtColor(img_hsv_down, cv2.COLOR_HLS2BGR)\n",
    "img_hsv_up = cv2.cvtColor(img_hsv_up, cv2.COLOR_HLS2BGR)\n",
    "\n",
    "# 組合圖片 + 顯示圖片\n",
    "img_hsv_change = np.hstack((img, img_hsv_down, img_hsv_up))\n",
    "\n",
    "cv2.imshow('change saturation', img_hsv_change)\n",
    "    \n",
    "k = cv2.waitKey(0)\n",
    "if k == 27:\n",
    "    cv2.destroyAllWindows()\n",
    "        "
   ]
  },
  {
   "cell_type": "code",
   "execution_count": null,
   "metadata": {},
   "outputs": [],
   "source": [
    "# case 1\n",
    "# 對各channel做直方圖均衡\n",
    "equalHist_by_channel = [img[..., 0], img[..., 1], img[..., 2]]\n",
    "equalHist_by_channel = [cv2.equalizeHist(i) for i in equalHist_by_channel]\n",
    "\n",
    "# 組合\n",
    "img_bgr_equal = np.stack(equalHist_by_channel, axis=-1)\n",
    "\n",
    "\n",
    "# case 2 - 轉換 color space 後只對其中一個 channel 做直方圖均衡\n",
    "img_hsv = cv2.cvtColor(img, cv2.COLOR_BGR2HSV)\n",
    "img_hsv[..., -1] = cv2.equalizeHist(img_hsv[..., -1])\n",
    "img_hsv_equal = cv2.cvtColor(img_hsv, cv2.COLOR_HSV2BGR)\n",
    "\n",
    "# 組合圖片 + 顯示圖片\n",
    "img_bgr_equalHist = np.hstack((img, img_bgr_equal, img_hsv_equal))\n",
    "while True:\n",
    "    # 比較 (原圖, BGR color space 對每個 channel 做直方圖均衡, HSV color space 對明度做直方圖均衡)\n",
    "    cv2.imshow('bgr equal histogram', img_bgr_equalHist)\n",
    "    k = cv2.waitKey(0)\n",
    "    if k == 27:\n",
    "        cv2.destroyAllWindows()\n",
    "        break"
   ]
  },
  {
   "cell_type": "code",
   "execution_count": 3,
   "metadata": {},
   "outputs": [],
   "source": [
    "# alpha: 控制對比度 (1.0~3.0)\n",
    "# beta: 控制明亮度 (0~255)\n",
    "add_contrast = cv2.convertScaleAbs(img, alpha=2.5, beta=0)\n",
    "add_lighness = cv2.convertScaleAbs(img, alpha=1.0, beta=75)\n",
    "\n",
    "# 組合圖片 + 顯示圖片\n",
    "img_contrast_light = np.hstack((img, add_contrast, add_lighness))\n",
    "while True:\n",
    "    # 比較不同程度的對比 / 明亮\n",
    "    cv2.imshow('adjust contrast and brighness', img_contrast_light)\n",
    "    k = cv2.waitKey(0)\n",
    "    if k == 27:\n",
    "        cv2.destroyAllWindows()\n",
    "        break"
   ]
  },
  {
   "cell_type": "code",
   "execution_count": null,
   "metadata": {},
   "outputs": [],
   "source": []
  },
  {
   "cell_type": "code",
   "execution_count": null,
   "metadata": {},
   "outputs": [],
   "source": []
  },
  {
   "cell_type": "code",
   "execution_count": null,
   "metadata": {},
   "outputs": [],
   "source": []
  }
 ],
 "metadata": {
  "kernelspec": {
   "display_name": "Python 3",
   "language": "python",
   "name": "python3"
  },
  "language_info": {
   "codemirror_mode": {
    "name": "ipython",
    "version": 3
   },
   "file_extension": ".py",
   "mimetype": "text/x-python",
   "name": "python",
   "nbconvert_exporter": "python",
   "pygments_lexer": "ipython3",
   "version": "3.8.2"
  }
 },
 "nbformat": 4,
 "nbformat_minor": 2
}
