{
 "cells": [
  {
   "cell_type": "code",
   "execution_count": 1,
   "metadata": {},
   "outputs": [],
   "source": [
    "import cv2\n",
    "import numpy as np\n",
    "img = cv2.imread('data/lena.png')"
   ]
  },
  {
   "cell_type": "markdown",
   "metadata": {},
   "source": [
    "畫矩型"
   ]
  },
  {
   "cell_type": "code",
   "execution_count": null,
   "metadata": {},
   "outputs": [],
   "source": [
    "img_rect = img.copy()\n",
    "cv2.rectangle(img_rect, (60, 40), (420, 510), (0, 0, 255), 3)\n",
    "\n",
    "cv2.imshow('lena_rect', img_rect)\n",
    "k = cv2.waitKey(0)\n",
    "if k == 27:\n",
    "    cv2.destroyAllWindows()"
   ]
  },
  {
   "cell_type": "markdown",
   "metadata": {},
   "source": [
    "畫線"
   ]
  },
  {
   "cell_type": "code",
   "execution_count": null,
   "metadata": {},
   "outputs": [],
   "source": [
    "img_line = img.copy()\n",
    "cv2.line(img_line, (60, 40), (420, 510), (0, 0, 255), 3)\n",
    "\n",
    "cv2.imshow('lena_line', img_line)\n",
    "k = cv2.waitKey(0)\n",
    "if k == 27:\n",
    "    cv2.destroyAllWindows()"
   ]
  },
  {
   "cell_type": "markdown",
   "metadata": {},
   "source": [
    "文字"
   ]
  },
  {
   "cell_type": "code",
   "execution_count": null,
   "metadata": {},
   "outputs": [],
   "source": [
    "img_text = img.copy()\n",
    "cv2.putText(img_text, 'lena', (60, 40), 0, 1, (0, 0, 255), 2)\n",
    "\n",
    "cv2.imshow('lena_text', img_text)\n",
    "k = cv2.waitKey(0)\n",
    "if k == 27:\n",
    "    cv2.destropAllWindows()"
   ]
  },
  {
   "cell_type": "markdown",
   "metadata": {},
   "source": [
    "解法一\n",
    "根據題目，參考之前的投影片，最簡單的方式是\n",
    "\n",
    "顏色的操作 (對明亮度做直方圖均衡)\n",
    "把矩形邊框畫在圖片上之後在做位置上的變換\n",
    "得到的圖的結果正確，但你不知道新的矩型邊框座標點"
   ]
  },
  {
   "cell_type": "code",
   "execution_count": null,
   "metadata": {},
   "outputs": [],
   "source": [
    "img_hw = img.copy()\n",
    "point1 = (60, 40)\n",
    "point2 = (420, 510)\n",
    "\n",
    "\"\"\"\n",
    "對明亮度做直方圖均衡\n",
    "\"\"\"\n",
    "# 原始 BGR 圖片轉 HSV 圖片\n",
    "img_hw = cv2.cvtColor(img_hw, cv2.COLOR_BGR2HSV)\n",
    "\n",
    "# 對明亮度做直方圖均衡 -> 對 HSV 的 V 做直方圖均衡\n",
    "img_hw[..., -1] = cv2.equalizeHist(img_hw[..., -1])\n",
    "\n",
    "# 將圖片轉回 BGR\n",
    "img_hw = cv2.cvtColor(img_hw, cv2.COLOR_HSV2BGR)\n",
    "\n",
    "\"\"\"\n",
    "畫出人物矩形邊框\n",
    "\"\"\"\n",
    "cv2.rectangle(img_hw, point1, point2, (0, 0, 255), 3)\n",
    "\n",
    "\"\"\"\n",
    "水平鏡像 + 縮放處理 (0.5 倍)\n",
    "\"\"\"\n",
    "# 水平鏡像 (圖片)\n",
    "img_hw = img_hw[:, ::-1, :]\n",
    "\n",
    "# 縮放處理\n",
    "img_hw = cv2.resize(img_hw, None, fx=0.5, fy=0.5, interpolation=cv2.INTER_LINEAR)\n",
    "\n",
    "while True:\n",
    "    cv2.imshow('image', img_hw)\n",
    "    k = cv2.waitKey(0)\n",
    "    if k == 27:\n",
    "        cv2.destroyAllWindows()\n",
    "        break"
   ]
  },
  {
   "cell_type": "markdown",
   "metadata": {},
   "source": [
    "解法二\n",
    "如果希望得知矩型邊框的位置\n",
    "\n",
    "顏色的操作 (對明亮度做直方圖均衡)\n",
    "鏡像可以透過四則運算得知\n",
    "透過建構 transformation matrix 做縮放\n",
    "把矩型邊框的點與 transformation matrix 相乘就會得到縮放後的位置\n",
    "畫圖\n",
    "得到的圖的結果正確，同時也知道新的矩型邊框座標點"
   ]
  },
  {
   "cell_type": "code",
   "execution_count": null,
   "metadata": {},
   "outputs": [],
   "source": [
    "img_hw = img.copy()\n",
    "point1 = [60, 40]\n",
    "point2 = [420, 510]\n",
    "\n",
    "\n",
    "\"\"\"\n",
    "對明亮度做直方圖均衡\n",
    "\"\"\"\n",
    "# BGR轉成HSV\n",
    "img_hw = cv2.cvtColor(img, cv2.COLOR_BGR2HSV)\n",
    "\n",
    "# 對明亮度做直方圖均衡 -> 對 HSV 的 V 做直方圖均衡\n",
    "img_hw[..., -1] = cv2.equalizeHist(img_hw[..., -1])\n",
    "\n",
    "# 轉回BGR\n",
    "img_hw_equal = cv2.cvtColor(img_hw, cv2.COLOR_HSV2BGR)\n",
    "\n",
    "\n",
    "\"\"\"\n",
    "水平鏡像\n",
    "\"\"\"\n",
    "h, w = img_hw.shape[:2]\n",
    "\n",
    "# 圖片鏡像\n",
    "img_hw = img_hw[:, ::-1, :]\n",
    "\n",
    "# 透過四則運算計算鏡像後位置\n",
    "# 確保點的位置一樣是左上跟右下，所以交換鏡像後的 x 座標 (y 座標做水平鏡像後位置不變)\n",
    "point1[0] = w-point1[0]\n",
    "point2[0] = w-point2[0]\n",
    "point1[0], point2[0] = point2[0], point1[0]\n",
    "\n",
    "\"\"\"\n",
    "縮放處理 (0.5 倍)\n",
    "\"\"\"\n",
    "fx = 0.5\n",
    "fy = 0.5\n",
    "resize_col = int(img_hw.shape[1]*fx)\n",
    "resize_row = int(img_hw.shape[0]*fy)\n",
    "\n",
    "# 建構 scale matrix\n",
    "M_scale = np.array([[0.5, 0, 0],\n",
    "                    [0, 0.5, 0]], dtype=np.float32)\n",
    "img_hw = cv2.warpAffine(img_hw, M_scale, (resize_col, resize_row))\n",
    "\n",
    "# 把左上跟右下轉為矩陣型式\n",
    "bbox = np.array((point1, point2), dtype=np.float32)\n",
    "#print('M_scale.shape={}, bbox.shape={}'.format(M_scale.shape, bbox.shape))\n",
    "\n",
    "# 做矩陣乘法可以使用 `np.dot`, 為了做矩陣乘法, M_scale 需要做轉置之後才能相乘\n",
    "homo_coor_result = np.dot(M_scale.T, bbox)\n",
    "homo_coor_result = homo_coor_result.astype('uint8')\n",
    "\n",
    "#print(homo_coor_result)\n",
    "scale_point1 = tuple(homo_coor_result[0])\n",
    "scale_point2 = tuple(homo_coor_result[1])\n",
    "print('origin point1={}, origin point2={}'.format(point1, point2))\n",
    "print('resize point1={}, resize point2={}'.format(scale_point1, scale_point2))\n",
    "\n",
    "# 畫圖\n",
    "cv2.rectangle(img_hw, scale_point1, scale_point2, (0, 0, 255), 3)\n",
    "\n",
    "cv2.imshow('image', img_hw)\n",
    "k = cv2.waitKey(0)\n",
    "if k == 27:\n",
    "    cv2.destroyAllWindows()"
   ]
  }
 ],
 "metadata": {
  "kernelspec": {
   "display_name": "Python 3",
   "language": "python",
   "name": "python3"
  },
  "language_info": {
   "codemirror_mode": {
    "name": "ipython",
    "version": 3
   },
   "file_extension": ".py",
   "mimetype": "text/x-python",
   "name": "python",
   "nbconvert_exporter": "python",
   "pygments_lexer": "ipython3",
   "version": "3.8.2"
  }
 },
 "nbformat": 4,
 "nbformat_minor": 4
}
