{
 "cells": [
  {
   "cell_type": "code",
   "execution_count": 2,
   "metadata": {},
   "outputs": [],
   "source": [
    "import cv2\n",
    "\n",
    "# read image\n",
    "img = cv2.imread('data/lena.png', cv2.IMREAD_COLOR) #預設,載入RGB三個chaneel;等同不吃參數的寫法\n",
    "img = cv2.imread('data/lena.png', cv2.IMREAD_GRAYSCALE) #載入灰階\n",
    "img = cv2.imread('data/lena.png', cv2.IMREAD_UNCHANGED) #for RGBA format"
   ]
  },
  {
   "cell_type": "code",
   "execution_count": 3,
   "metadata": {
    "scrolled": true
   },
   "outputs": [
    {
     "name": "stdout",
     "output_type": "stream",
     "text": [
      "[[[125 137 226]\n",
      "  [125 137 226]\n",
      "  [133 137 223]\n",
      "  ...\n",
      "  [122 148 230]\n",
      "  [110 130 221]\n",
      "  [ 90  99 200]]\n",
      "\n",
      " [[125 137 226]\n",
      "  [125 137 226]\n",
      "  [133 137 223]\n",
      "  ...\n",
      "  [122 148 230]\n",
      "  [110 130 221]\n",
      "  [ 90  99 200]]\n",
      "\n",
      " [[125 137 226]\n",
      "  [125 137 226]\n",
      "  [133 137 223]\n",
      "  ...\n",
      "  [122 148 230]\n",
      "  [110 130 221]\n",
      "  [ 90  99 200]]\n",
      "\n",
      " ...\n",
      "\n",
      " [[ 60  18  84]\n",
      "  [ 60  18  84]\n",
      "  [ 58  27  92]\n",
      "  ...\n",
      "  [ 84  73 173]\n",
      "  [ 76  68 172]\n",
      "  [ 79  62 177]]\n",
      "\n",
      " [[ 57  22  82]\n",
      "  [ 57  22  82]\n",
      "  [ 62  32  96]\n",
      "  ...\n",
      "  [ 79  70 179]\n",
      "  [ 81  71 181]\n",
      "  [ 81  74 185]]\n",
      "\n",
      " [[ 57  22  82]\n",
      "  [ 57  22  82]\n",
      "  [ 62  32  96]\n",
      "  ...\n",
      "  [ 79  70 179]\n",
      "  [ 81  71 181]\n",
      "  [ 81  74 185]]]\n"
     ]
    }
   ],
   "source": [
    "print(img) #python用numpy表示image, 是ndarray物件\n",
    "\n",
    "\n"
   ]
  },
  {
   "cell_type": "code",
   "execution_count": 5,
   "metadata": {},
   "outputs": [
    {
     "name": "stdout",
     "output_type": "stream",
     "text": [
      "(512, 512, 3)\n",
      "uint8\n"
     ]
    }
   ],
   "source": [
    "print(img.shape)   # (512, 512, 3)\n",
    "print(img.dtype)   # uint8"
   ]
  },
  {
   "cell_type": "code",
   "execution_count": null,
   "metadata": {},
   "outputs": [],
   "source": [
    "# show image\n",
    "cv2.imshow('window_name', img)\n",
    "cv2.waitKey(0)  # 讓視窗停住\n",
    "cv2.destroyAllWindows() # 按X鍵關閉視窗"
   ]
  }
 ],
 "metadata": {
  "kernelspec": {
   "display_name": "Python 3",
   "language": "python",
   "name": "python3"
  },
  "language_info": {
   "codemirror_mode": {
    "name": "ipython",
    "version": 3
   },
   "file_extension": ".py",
   "mimetype": "text/x-python",
   "name": "python",
   "nbconvert_exporter": "python",
   "pygments_lexer": "ipython3",
   "version": "3.8.2"
  }
 },
 "nbformat": 4,
 "nbformat_minor": 4
}
