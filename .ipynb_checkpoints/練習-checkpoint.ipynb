{
 "cells": [
  {
   "cell_type": "code",
   "execution_count": 48,
   "metadata": {},
   "outputs": [
    {
     "name": "stdout",
     "output_type": "stream",
     "text": [
      "(512, 512, 3)\n"
     ]
    }
   ],
   "source": [
    "import cv2\n",
    "import numpy as np\n",
    "\n",
    "img_path = \"data/lena.png\"\n",
    "img = cv2.imread(img_path)\n",
    "print(img.shape)"
   ]
  },
  {
   "cell_type": "code",
   "execution_count": null,
   "metadata": {},
   "outputs": [],
   "source": [
    "原本的512*512\n",
    "[[125 125 133 ... 122 110  90]\n",
    " [125 125 133 ... 122 110  90]\n",
    " [125 125 133 ... 122 110  90]\n",
    " ...\n",
    " [ 60  60  58 ...  84  76  79]\n",
    " [ 57  57  62 ...  79  81  81]\n",
    " [ 57  57  62 ...  79  81  81]]\n",
    "\n",
    "\n",
    "\n",
    "每一行都是512*512 共3行，只是一行的512*512不好看出來，因為numpy一條橫的就是一個最小的ist[]\n",
    "可以想成上面每一個元素變成三個元素的list\n",
    "例如第一個125變成[125, 137, 226] 然後有512*512個這樣的list\n",
    "\n",
    "[[[125 137 226]\n",
    "  [125 137 226]\n",
    "  [133 137 223]\n",
    "  ...\n",
    "  [122 148 230]\n",
    "  [110 130 221]\n",
    "  [ 90  99 200]]\n",
    "\n",
    " [[125 137 226]\n",
    "  [125 137 226]\n",
    "  [133 137 223]\n",
    "  ...\n",
    "  [122 148 230]\n",
    "  [110 130 221]\n",
    "  [ 90  99 200]]\n",
    "\n",
    " [[125 137 226]\n",
    "  [125 137 226]\n",
    "  [133 137 223]\n",
    "  ...\n",
    "  [122 148 230]\n",
    "  [110 130 221]\n",
    "  [ 90  99 200]]\n",
    "\n",
    " ...\n",
    "\n",
    " [[ 60  18  84]\n",
    "  [ 60  18  84]\n",
    "  [ 58  27  92]\n",
    "  ...\n",
    "  [ 84  73 173]\n",
    "  [ 76  68 172]\n",
    "  [ 79  62 177]]\n",
    "\n",
    " [[ 57  22  82]\n",
    "  [ 57  22  82]\n",
    "  [ 62  32  96]\n",
    "  ...\n",
    "  [ 79  70 179]\n",
    "  [ 81  71 181]\n",
    "  [ 81  74 185]]\n",
    "\n",
    " [[ 57  22  82]\n",
    "  [ 57  22  82]\n",
    "  [ 62  32  96]\n",
    "  ...\n",
    "  [ 79  70 179]\n",
    "  [ 81  71 181]\n",
    "  [ 81  74 185]]]\n"
   ]
  },
  {
   "cell_type": "code",
   "execution_count": 24,
   "metadata": {},
   "outputs": [
    {
     "name": "stdout",
     "output_type": "stream",
     "text": [
      "hello Jack\n"
     ]
    }
   ],
   "source": [
    "def greet(who):\n",
    "    print(\"hello\",who)\n",
    "greet(\"Jack\")\n"
   ]
  },
  {
   "cell_type": "code",
   "execution_count": 50,
   "metadata": {},
   "outputs": [
    {
     "name": "stdout",
     "output_type": "stream",
     "text": [
      "36288000\n"
     ]
    }
   ],
   "source": [
    "fac= 10\n",
    "i = 10\n",
    "while (i != 0):\n",
    "    fac = fac * i\n",
    "    i = i-1\n",
    "print(fac)"
   ]
  },
  {
   "cell_type": "code",
   "execution_count": 34,
   "metadata": {},
   "outputs": [
    {
     "name": "stdout",
     "output_type": "stream",
     "text": [
      "Model: \"test\"\n",
      "_________________________________________________________________\n",
      "Layer (type)                 Output Shape              Param #   \n",
      "=================================================================\n",
      "input_11 (InputLayer)        (None, 28, 28, 1)         0         \n",
      "_________________________________________________________________\n",
      "conv2d_9 (Conv2D)            (None, 26, 26, 32)        320       \n",
      "_________________________________________________________________\n",
      "conv2d_10 (Conv2D)           (None, 24, 24, 32)        9248      \n",
      "=================================================================\n",
      "Total params: 9,568\n",
      "Trainable params: 9,568\n",
      "Non-trainable params: 0\n",
      "_________________________________________________________________\n"
     ]
    }
   ],
   "source": [
    "from keras.layers import Input,Dense\n",
    "from keras.models import Model\n",
    "from keras.models import Sequential\n",
    "from keras.layers import Convolution2D\n",
    "from keras.layers import Conv2D\n",
    "\n",
    "inputs = Input(shape=(28,28,1))\n",
    "x = Conv2D(32, (3,3))(inputs)\n",
    "x = Conv2D(32, (3,3))(x)\n",
    "model = Model(inputs, x, name='test')\n",
    "model.summary()\n",
    "# a = Sequential()\n",
    "# inputs = Input(shape=(784,))\n",
    "# x = Dense(288)(inputs)\n",
    "# model = Model(inputs=inputs, outputs=x)\n",
    "# print(model.summary())\n"
   ]
  },
  {
   "cell_type": "code",
   "execution_count": 35,
   "metadata": {},
   "outputs": [],
   "source": [
    "from keras.datasets import cifar10\n",
    "import numpy as np\n",
    "(x_train, y_train), (x_test, y_test) = cifar10.load_data()\n"
   ]
  },
  {
   "cell_type": "code",
   "execution_count": 60,
   "metadata": {},
   "outputs": [],
   "source": [
    "import numpy as np\n",
    "from keras.layers import Input\n",
    "from keras.layers import Conv2D\n",
    "from keras.layers import Activation\n",
    "from keras.layers import MaxPooling2D\n",
    "from keras.layers import BatchNormalization\n",
    "from keras.layers import Flatten\n",
    "from keras.layers import Dense\n",
    "from keras.layers import GlobalMaxPooling2D\n",
    "from keras.layers import GlobalAveragePooling2D\n",
    "from keras import layers\n",
    "from keras import backend as K"
   ]
  },
  {
   "cell_type": "code",
   "execution_count": 61,
   "metadata": {},
   "outputs": [],
   "source": [
    "def Conv2D_bn(x, filters, kernel_size, padding='same', strides=(1,1),\n",
    "              activation='relu', normalizer=True, name=None):\n",
    "    if name is not None:\n",
    "        conv_name =  name + '_conv'\n",
    "        bn_name = name + '_bn'\n",
    "        act_name = name + '_act'\n",
    "    else:\n",
    "        conv_name = None\n",
    "        bn_name = None\n",
    "        act_name = None\n",
    "    if K.image_data_format() == 'channels_first':\n",
    "        bn_axis = 1\n",
    "    else:\n",
    "        bn_axis = 3\n",
    "    \n",
    "    x = Conv2D(filters, kernel_size, strides=strides, padding=padding,\n",
    "               use_bias=False, name=conv_name)(x)\n",
    "    if normalizer:\n",
    "        x = BatchNormalization(axis=bn_axis, scale=False, name=bn_name)(x)\n",
    "    if activation:\n",
    "        x = Activation(activation, name=act_name)(x)\n",
    "    return x"
   ]
  },
  {
   "cell_type": "code",
   "execution_count": 62,
   "metadata": {},
   "outputs": [],
   "source": [
    "def InceptionV1(x, spec, channel_axis, name):\n",
    "    (br0 ,br1, br2, br3) = spec\n",
    "    branch_0 = Conv2D_bn(x, br0[0], (1, 1), name=name+'_branch_0')\n",
    "    \n",
    "    branch_1 = Conv2D_bn(x, br1[1], (1, 1), name=name+'_branch_1')\n",
    "    branch_1 = Conv2D_bn(branch_1, br1[1], (3,3), name=name+'_branch_1_1')\n",
    "    \n",
    "    branch_2 = Conv2D_bn(x, br2[1], (1, 1), name=name+'_branch_2')\n",
    "    branch_2 = Conv2D_bn(branch_2, br1[1], (5, 5), name=name+'_branch_2_1')\n",
    "    \n",
    "    branch_3 = MaxPooling2D((3, 3) ,strides=(1, 1), padding='same', name=name+'_branch_3')(x)\n",
    "    branch_3 = Conv2D_bn(branch_3, br3[0], (1,1), name=name+'_branch_3_1')\n",
    "    \n",
    "    x = layers.concatenate(\n",
    "        [branch_0, branch_1, branch_2, branch_3],\n",
    "        axis= channel_axis,\n",
    "        name = name +'_Concatenate')\n",
    "    return x"
   ]
  },
  {
   "cell_type": "code",
   "execution_count": 63,
   "metadata": {},
   "outputs": [
    {
     "name": "stdout",
     "output_type": "stream",
     "text": [
      "Tensor(\"Block_1_Concatenate/concat:0\", shape=(None, 224, 224, 352), dtype=float32)\n"
     ]
    }
   ],
   "source": [
    "img_input = Input(shape=(224,224,1))\n",
    "x = InceptionV1(img_input, ((64,), (96,128), (16,32), (32,)), 3, 'Block_1')\n",
    "print(x)"
   ]
  },
  {
   "cell_type": "code",
   "execution_count": null,
   "metadata": {},
   "outputs": [],
   "source": []
  }
 ],
 "metadata": {
  "kernelspec": {
   "display_name": "Python 3",
   "language": "python",
   "name": "python3"
  },
  "language_info": {
   "codemirror_mode": {
    "name": "ipython",
    "version": 3
   },
   "file_extension": ".py",
   "mimetype": "text/x-python",
   "name": "python",
   "nbconvert_exporter": "python",
   "pygments_lexer": "ipython3",
   "version": "3.8.2"
  }
 },
 "nbformat": 4,
 "nbformat_minor": 4
}
